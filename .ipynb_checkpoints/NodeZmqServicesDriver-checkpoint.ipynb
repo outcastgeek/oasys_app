{
 "metadata": {
  "name": ""
 },
 "nbformat": 3,
 "nbformat_minor": 0,
 "worksheets": [
  {
   "cells": [
    {
     "cell_type": "code",
     "collapsed": false,
     "input": [
      "import zmq\n",
      "import json\n",
      "\n",
      "ctx = zmq.Context()\n",
      "sock = ctx.socket(zmq.REQ)\n",
      "msg = json.dumps(dict(one=\"one\", two=\"two\", three=\"three\"))\n"
     ],
     "language": "python",
     "metadata": {},
     "outputs": [],
     "prompt_number": 1
    },
    {
     "cell_type": "code",
     "collapsed": false,
     "input": [
      "sock.connect(\"tcp://127.0.0.1:5555\")"
     ],
     "language": "python",
     "metadata": {},
     "outputs": [],
     "prompt_number": 2
    },
    {
     "cell_type": "code",
     "collapsed": false,
     "input": [
      "sock.send(msg)\n",
      "sock.recv()"
     ],
     "language": "python",
     "metadata": {},
     "outputs": [
      {
       "metadata": {},
       "output_type": "pyout",
       "prompt_number": 11,
       "text": [
        "'world'"
       ]
      }
     ],
     "prompt_number": 11
    },
    {
     "cell_type": "code",
     "collapsed": false,
     "input": [],
     "language": "python",
     "metadata": {},
     "outputs": [],
     "prompt_number": 1
    },
    {
     "cell_type": "code",
     "collapsed": false,
     "input": [
      "import zmq\n",
      "import json\n",
      "\n",
      "context = zmq.Context()\n",
      "socket = context.socket(zmq.REQ)\n",
      "\n",
      "data = dict(index=\"8\", total=\"8\", func=\"addrange\", data=\"16\")\n",
      "#message = \"\".join([\"{\",\n",
      "#                   \":index {index} :total {total} :func {func} :data {data}\".format(**data),\n",
      "#                   \"}\"])\n",
      "\n",
      "#data = {\"index\":\"8\", \"total\":\"8\", \"func\":\"addrange\", \"data\":\"16\"}\n",
      "message = json.dumps(data)\n",
      "\n",
      "message"
     ],
     "language": "python",
     "metadata": {},
     "outputs": [
      {
       "metadata": {},
       "output_type": "pyout",
       "prompt_number": 1,
       "text": [
        "'{\"index\": \"8\", \"total\": \"8\", \"data\": \"16\", \"func\": \"addrange\"}'"
       ]
      }
     ],
     "prompt_number": 1
    },
    {
     "cell_type": "code",
     "collapsed": false,
     "input": [],
     "language": "python",
     "metadata": {},
     "outputs": [],
     "prompt_number": 1
    },
    {
     "cell_type": "code",
     "collapsed": false,
     "input": [
      "socket.connect(\"tcp://127.0.0.1:44440\")\n",
      "socket.send(message)\n",
      "raw_resp = socket.recv()"
     ],
     "language": "python",
     "metadata": {},
     "outputs": [],
     "prompt_number": "*"
    },
    {
     "cell_type": "code",
     "collapsed": false,
     "input": [
      "raw_resp\n",
      "resp = json.loads(raw_resp)\n",
      "resp"
     ],
     "language": "python",
     "metadata": {},
     "outputs": [
      {
       "metadata": {},
       "output_type": "pyout",
       "prompt_number": 17,
       "text": [
        "{Keyword(func): Symbol(addrange),\n",
        " Keyword(data): 120,\n",
        " Keyword(status): 'worker1 @ tcp://127.0.0.1:44441'}"
       ]
      }
     ],
     "prompt_number": 17
    },
    {
     "cell_type": "code",
     "collapsed": false,
     "input": [],
     "language": "python",
     "metadata": {},
     "outputs": [],
     "prompt_number": 9
    },
    {
     "cell_type": "code",
     "collapsed": false,
     "input": [],
     "language": "python",
     "metadata": {},
     "outputs": []
    }
   ],
   "metadata": {}
  }
 ]
}